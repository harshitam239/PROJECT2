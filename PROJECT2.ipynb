{
 "cells": [
  {
   "cell_type": "code",
   "execution_count": 1,
   "id": "60f9c4b5",
   "metadata": {},
   "outputs": [],
   "source": [
    "import numpy as np\n",
    "import pandas as pd\n",
    "%matplotlib inline\n",
    "import matplotlib.pyplot as plt\n",
    "import seaborn as sns\n",
    "\n",
    "from sklearn.model_selection import train_test_split\n",
    "from sklearn.linear_model import LogisticRegression\n",
    "\n",
    "import warnings\n",
    "warnings.filterwarnings(\"ignore\")"
   ]
  },
  {
   "cell_type": "code",
   "execution_count": 2,
   "id": "01a53e83",
   "metadata": {},
   "outputs": [],
   "source": [
    "ds= pd.read_csv(\"https://raw.githubusercontent.com/Premalatha-success/Datasets/main/h1n1_vaccine_prediction.csv\")"
   ]
  },
  {
   "cell_type": "code",
   "execution_count": 3,
   "id": "4bad284b",
   "metadata": {},
   "outputs": [
    {
     "data": {
      "text/plain": [
       "(26707, 34)"
      ]
     },
     "execution_count": 3,
     "metadata": {},
     "output_type": "execute_result"
    }
   ],
   "source": [
    "ds.shape"
   ]
  },
  {
   "cell_type": "code",
   "execution_count": 4,
   "id": "258df48b",
   "metadata": {},
   "outputs": [
    {
     "data": {
      "text/html": [
       "<div>\n",
       "<style scoped>\n",
       "    .dataframe tbody tr th:only-of-type {\n",
       "        vertical-align: middle;\n",
       "    }\n",
       "\n",
       "    .dataframe tbody tr th {\n",
       "        vertical-align: top;\n",
       "    }\n",
       "\n",
       "    .dataframe thead th {\n",
       "        text-align: right;\n",
       "    }\n",
       "</style>\n",
       "<table border=\"1\" class=\"dataframe\">\n",
       "  <thead>\n",
       "    <tr style=\"text-align: right;\">\n",
       "      <th></th>\n",
       "      <th>unique_id</th>\n",
       "      <th>h1n1_worry</th>\n",
       "      <th>h1n1_awareness</th>\n",
       "      <th>antiviral_medication</th>\n",
       "      <th>contact_avoidance</th>\n",
       "      <th>bought_face_mask</th>\n",
       "      <th>wash_hands_frequently</th>\n",
       "      <th>avoid_large_gatherings</th>\n",
       "      <th>reduced_outside_home_cont</th>\n",
       "      <th>avoid_touch_face</th>\n",
       "      <th>...</th>\n",
       "      <th>race</th>\n",
       "      <th>sex</th>\n",
       "      <th>income_level</th>\n",
       "      <th>marital_status</th>\n",
       "      <th>housing_status</th>\n",
       "      <th>employment</th>\n",
       "      <th>census_msa</th>\n",
       "      <th>no_of_adults</th>\n",
       "      <th>no_of_children</th>\n",
       "      <th>h1n1_vaccine</th>\n",
       "    </tr>\n",
       "  </thead>\n",
       "  <tbody>\n",
       "    <tr>\n",
       "      <th>23818</th>\n",
       "      <td>23818</td>\n",
       "      <td>0.0</td>\n",
       "      <td>2.0</td>\n",
       "      <td>0.0</td>\n",
       "      <td>1.0</td>\n",
       "      <td>0.0</td>\n",
       "      <td>0.0</td>\n",
       "      <td>0.0</td>\n",
       "      <td>0.0</td>\n",
       "      <td>1.0</td>\n",
       "      <td>...</td>\n",
       "      <td>White</td>\n",
       "      <td>Male</td>\n",
       "      <td>&lt;= $75,000, Above Poverty</td>\n",
       "      <td>Not Married</td>\n",
       "      <td>Rent</td>\n",
       "      <td>Employed</td>\n",
       "      <td>MSA, Not Principle  City</td>\n",
       "      <td>1.0</td>\n",
       "      <td>0.0</td>\n",
       "      <td>0</td>\n",
       "    </tr>\n",
       "    <tr>\n",
       "      <th>13234</th>\n",
       "      <td>13234</td>\n",
       "      <td>1.0</td>\n",
       "      <td>2.0</td>\n",
       "      <td>0.0</td>\n",
       "      <td>1.0</td>\n",
       "      <td>0.0</td>\n",
       "      <td>1.0</td>\n",
       "      <td>0.0</td>\n",
       "      <td>1.0</td>\n",
       "      <td>1.0</td>\n",
       "      <td>...</td>\n",
       "      <td>Black</td>\n",
       "      <td>Female</td>\n",
       "      <td>&gt; $75,000</td>\n",
       "      <td>Not Married</td>\n",
       "      <td>Own</td>\n",
       "      <td>Employed</td>\n",
       "      <td>MSA, Principle City</td>\n",
       "      <td>1.0</td>\n",
       "      <td>0.0</td>\n",
       "      <td>0</td>\n",
       "    </tr>\n",
       "    <tr>\n",
       "      <th>23659</th>\n",
       "      <td>23659</td>\n",
       "      <td>1.0</td>\n",
       "      <td>0.0</td>\n",
       "      <td>0.0</td>\n",
       "      <td>0.0</td>\n",
       "      <td>0.0</td>\n",
       "      <td>0.0</td>\n",
       "      <td>0.0</td>\n",
       "      <td>0.0</td>\n",
       "      <td>0.0</td>\n",
       "      <td>...</td>\n",
       "      <td>White</td>\n",
       "      <td>Female</td>\n",
       "      <td>NaN</td>\n",
       "      <td>Not Married</td>\n",
       "      <td>Own</td>\n",
       "      <td>Not in Labor Force</td>\n",
       "      <td>MSA, Not Principle  City</td>\n",
       "      <td>0.0</td>\n",
       "      <td>0.0</td>\n",
       "      <td>0</td>\n",
       "    </tr>\n",
       "    <tr>\n",
       "      <th>25187</th>\n",
       "      <td>25187</td>\n",
       "      <td>1.0</td>\n",
       "      <td>2.0</td>\n",
       "      <td>0.0</td>\n",
       "      <td>1.0</td>\n",
       "      <td>0.0</td>\n",
       "      <td>1.0</td>\n",
       "      <td>1.0</td>\n",
       "      <td>1.0</td>\n",
       "      <td>1.0</td>\n",
       "      <td>...</td>\n",
       "      <td>Hispanic</td>\n",
       "      <td>Female</td>\n",
       "      <td>Below Poverty</td>\n",
       "      <td>Married</td>\n",
       "      <td>Rent</td>\n",
       "      <td>Not in Labor Force</td>\n",
       "      <td>MSA, Principle City</td>\n",
       "      <td>2.0</td>\n",
       "      <td>3.0</td>\n",
       "      <td>1</td>\n",
       "    </tr>\n",
       "    <tr>\n",
       "      <th>25059</th>\n",
       "      <td>25059</td>\n",
       "      <td>1.0</td>\n",
       "      <td>2.0</td>\n",
       "      <td>0.0</td>\n",
       "      <td>0.0</td>\n",
       "      <td>0.0</td>\n",
       "      <td>0.0</td>\n",
       "      <td>0.0</td>\n",
       "      <td>0.0</td>\n",
       "      <td>0.0</td>\n",
       "      <td>...</td>\n",
       "      <td>White</td>\n",
       "      <td>Male</td>\n",
       "      <td>&gt; $75,000</td>\n",
       "      <td>Married</td>\n",
       "      <td>Own</td>\n",
       "      <td>Employed</td>\n",
       "      <td>MSA, Not Principle  City</td>\n",
       "      <td>1.0</td>\n",
       "      <td>2.0</td>\n",
       "      <td>0</td>\n",
       "    </tr>\n",
       "    <tr>\n",
       "      <th>15024</th>\n",
       "      <td>15024</td>\n",
       "      <td>3.0</td>\n",
       "      <td>2.0</td>\n",
       "      <td>0.0</td>\n",
       "      <td>1.0</td>\n",
       "      <td>0.0</td>\n",
       "      <td>1.0</td>\n",
       "      <td>0.0</td>\n",
       "      <td>0.0</td>\n",
       "      <td>1.0</td>\n",
       "      <td>...</td>\n",
       "      <td>White</td>\n",
       "      <td>Female</td>\n",
       "      <td>&lt;= $75,000, Above Poverty</td>\n",
       "      <td>Not Married</td>\n",
       "      <td>Own</td>\n",
       "      <td>Employed</td>\n",
       "      <td>MSA, Principle City</td>\n",
       "      <td>0.0</td>\n",
       "      <td>0.0</td>\n",
       "      <td>1</td>\n",
       "    </tr>\n",
       "    <tr>\n",
       "      <th>24828</th>\n",
       "      <td>24828</td>\n",
       "      <td>2.0</td>\n",
       "      <td>1.0</td>\n",
       "      <td>0.0</td>\n",
       "      <td>1.0</td>\n",
       "      <td>0.0</td>\n",
       "      <td>1.0</td>\n",
       "      <td>1.0</td>\n",
       "      <td>1.0</td>\n",
       "      <td>1.0</td>\n",
       "      <td>...</td>\n",
       "      <td>White</td>\n",
       "      <td>Female</td>\n",
       "      <td>&lt;= $75,000, Above Poverty</td>\n",
       "      <td>Not Married</td>\n",
       "      <td>Own</td>\n",
       "      <td>Employed</td>\n",
       "      <td>MSA, Principle City</td>\n",
       "      <td>1.0</td>\n",
       "      <td>1.0</td>\n",
       "      <td>0</td>\n",
       "    </tr>\n",
       "    <tr>\n",
       "      <th>7425</th>\n",
       "      <td>7425</td>\n",
       "      <td>0.0</td>\n",
       "      <td>1.0</td>\n",
       "      <td>0.0</td>\n",
       "      <td>0.0</td>\n",
       "      <td>0.0</td>\n",
       "      <td>0.0</td>\n",
       "      <td>0.0</td>\n",
       "      <td>0.0</td>\n",
       "      <td>0.0</td>\n",
       "      <td>...</td>\n",
       "      <td>White</td>\n",
       "      <td>Male</td>\n",
       "      <td>&gt; $75,000</td>\n",
       "      <td>Married</td>\n",
       "      <td>Own</td>\n",
       "      <td>Employed</td>\n",
       "      <td>MSA, Principle City</td>\n",
       "      <td>1.0</td>\n",
       "      <td>0.0</td>\n",
       "      <td>0</td>\n",
       "    </tr>\n",
       "    <tr>\n",
       "      <th>20928</th>\n",
       "      <td>20928</td>\n",
       "      <td>2.0</td>\n",
       "      <td>1.0</td>\n",
       "      <td>0.0</td>\n",
       "      <td>0.0</td>\n",
       "      <td>0.0</td>\n",
       "      <td>1.0</td>\n",
       "      <td>1.0</td>\n",
       "      <td>1.0</td>\n",
       "      <td>1.0</td>\n",
       "      <td>...</td>\n",
       "      <td>White</td>\n",
       "      <td>Female</td>\n",
       "      <td>NaN</td>\n",
       "      <td>Not Married</td>\n",
       "      <td>Own</td>\n",
       "      <td>Not in Labor Force</td>\n",
       "      <td>MSA, Principle City</td>\n",
       "      <td>0.0</td>\n",
       "      <td>0.0</td>\n",
       "      <td>0</td>\n",
       "    </tr>\n",
       "    <tr>\n",
       "      <th>7249</th>\n",
       "      <td>7249</td>\n",
       "      <td>0.0</td>\n",
       "      <td>2.0</td>\n",
       "      <td>0.0</td>\n",
       "      <td>0.0</td>\n",
       "      <td>0.0</td>\n",
       "      <td>0.0</td>\n",
       "      <td>0.0</td>\n",
       "      <td>0.0</td>\n",
       "      <td>1.0</td>\n",
       "      <td>...</td>\n",
       "      <td>White</td>\n",
       "      <td>Male</td>\n",
       "      <td>&gt; $75,000</td>\n",
       "      <td>Married</td>\n",
       "      <td>Own</td>\n",
       "      <td>Not in Labor Force</td>\n",
       "      <td>MSA, Not Principle  City</td>\n",
       "      <td>1.0</td>\n",
       "      <td>0.0</td>\n",
       "      <td>0</td>\n",
       "    </tr>\n",
       "  </tbody>\n",
       "</table>\n",
       "<p>10 rows × 34 columns</p>\n",
       "</div>"
      ],
      "text/plain": [
       "       unique_id  h1n1_worry  h1n1_awareness  antiviral_medication  \\\n",
       "23818      23818         0.0             2.0                   0.0   \n",
       "13234      13234         1.0             2.0                   0.0   \n",
       "23659      23659         1.0             0.0                   0.0   \n",
       "25187      25187         1.0             2.0                   0.0   \n",
       "25059      25059         1.0             2.0                   0.0   \n",
       "15024      15024         3.0             2.0                   0.0   \n",
       "24828      24828         2.0             1.0                   0.0   \n",
       "7425        7425         0.0             1.0                   0.0   \n",
       "20928      20928         2.0             1.0                   0.0   \n",
       "7249        7249         0.0             2.0                   0.0   \n",
       "\n",
       "       contact_avoidance  bought_face_mask  wash_hands_frequently  \\\n",
       "23818                1.0               0.0                    0.0   \n",
       "13234                1.0               0.0                    1.0   \n",
       "23659                0.0               0.0                    0.0   \n",
       "25187                1.0               0.0                    1.0   \n",
       "25059                0.0               0.0                    0.0   \n",
       "15024                1.0               0.0                    1.0   \n",
       "24828                1.0               0.0                    1.0   \n",
       "7425                 0.0               0.0                    0.0   \n",
       "20928                0.0               0.0                    1.0   \n",
       "7249                 0.0               0.0                    0.0   \n",
       "\n",
       "       avoid_large_gatherings  reduced_outside_home_cont  avoid_touch_face  \\\n",
       "23818                     0.0                        0.0               1.0   \n",
       "13234                     0.0                        1.0               1.0   \n",
       "23659                     0.0                        0.0               0.0   \n",
       "25187                     1.0                        1.0               1.0   \n",
       "25059                     0.0                        0.0               0.0   \n",
       "15024                     0.0                        0.0               1.0   \n",
       "24828                     1.0                        1.0               1.0   \n",
       "7425                      0.0                        0.0               0.0   \n",
       "20928                     1.0                        1.0               1.0   \n",
       "7249                      0.0                        0.0               1.0   \n",
       "\n",
       "       ...      race     sex               income_level  marital_status  \\\n",
       "23818  ...     White    Male  <= $75,000, Above Poverty     Not Married   \n",
       "13234  ...     Black  Female                  > $75,000     Not Married   \n",
       "23659  ...     White  Female                        NaN     Not Married   \n",
       "25187  ...  Hispanic  Female              Below Poverty         Married   \n",
       "25059  ...     White    Male                  > $75,000         Married   \n",
       "15024  ...     White  Female  <= $75,000, Above Poverty     Not Married   \n",
       "24828  ...     White  Female  <= $75,000, Above Poverty     Not Married   \n",
       "7425   ...     White    Male                  > $75,000         Married   \n",
       "20928  ...     White  Female                        NaN     Not Married   \n",
       "7249   ...     White    Male                  > $75,000         Married   \n",
       "\n",
       "       housing_status          employment                census_msa  \\\n",
       "23818            Rent            Employed  MSA, Not Principle  City   \n",
       "13234             Own            Employed       MSA, Principle City   \n",
       "23659             Own  Not in Labor Force  MSA, Not Principle  City   \n",
       "25187            Rent  Not in Labor Force       MSA, Principle City   \n",
       "25059             Own            Employed  MSA, Not Principle  City   \n",
       "15024             Own            Employed       MSA, Principle City   \n",
       "24828             Own            Employed       MSA, Principle City   \n",
       "7425              Own            Employed       MSA, Principle City   \n",
       "20928             Own  Not in Labor Force       MSA, Principle City   \n",
       "7249              Own  Not in Labor Force  MSA, Not Principle  City   \n",
       "\n",
       "       no_of_adults  no_of_children  h1n1_vaccine  \n",
       "23818           1.0             0.0             0  \n",
       "13234           1.0             0.0             0  \n",
       "23659           0.0             0.0             0  \n",
       "25187           2.0             3.0             1  \n",
       "25059           1.0             2.0             0  \n",
       "15024           0.0             0.0             1  \n",
       "24828           1.0             1.0             0  \n",
       "7425            1.0             0.0             0  \n",
       "20928           0.0             0.0             0  \n",
       "7249            1.0             0.0             0  \n",
       "\n",
       "[10 rows x 34 columns]"
      ]
     },
     "execution_count": 4,
     "metadata": {},
     "output_type": "execute_result"
    }
   ],
   "source": [
    "ds.sample(10)"
   ]
  },
  {
   "cell_type": "code",
   "execution_count": 5,
   "id": "2cfeff40",
   "metadata": {},
   "outputs": [
    {
     "data": {
      "text/plain": [
       "unique_id                      int64\n",
       "h1n1_worry                   float64\n",
       "h1n1_awareness               float64\n",
       "antiviral_medication         float64\n",
       "contact_avoidance            float64\n",
       "bought_face_mask             float64\n",
       "wash_hands_frequently        float64\n",
       "avoid_large_gatherings       float64\n",
       "reduced_outside_home_cont    float64\n",
       "avoid_touch_face             float64\n",
       "dr_recc_h1n1_vacc            float64\n",
       "dr_recc_seasonal_vacc        float64\n",
       "chronic_medic_condition      float64\n",
       "cont_child_undr_6_mnths      float64\n",
       "is_health_worker             float64\n",
       "has_health_insur             float64\n",
       "is_h1n1_vacc_effective       float64\n",
       "is_h1n1_risky                float64\n",
       "sick_from_h1n1_vacc          float64\n",
       "is_seas_vacc_effective       float64\n",
       "is_seas_risky                float64\n",
       "sick_from_seas_vacc          float64\n",
       "age_bracket                   object\n",
       "qualification                 object\n",
       "race                          object\n",
       "sex                           object\n",
       "income_level                  object\n",
       "marital_status                object\n",
       "housing_status                object\n",
       "employment                    object\n",
       "census_msa                    object\n",
       "no_of_adults                 float64\n",
       "no_of_children               float64\n",
       "h1n1_vaccine                   int64\n",
       "dtype: object"
      ]
     },
     "execution_count": 5,
     "metadata": {},
     "output_type": "execute_result"
    }
   ],
   "source": [
    "ds.dtypes"
   ]
  },
  {
   "cell_type": "code",
   "execution_count": 6,
   "id": "fb631786",
   "metadata": {},
   "outputs": [
    {
     "name": "stdout",
     "output_type": "stream",
     "text": [
      "<class 'pandas.core.frame.DataFrame'>\n",
      "RangeIndex: 26707 entries, 0 to 26706\n",
      "Data columns (total 34 columns):\n",
      " #   Column                     Non-Null Count  Dtype  \n",
      "---  ------                     --------------  -----  \n",
      " 0   unique_id                  26707 non-null  int64  \n",
      " 1   h1n1_worry                 26615 non-null  float64\n",
      " 2   h1n1_awareness             26591 non-null  float64\n",
      " 3   antiviral_medication       26636 non-null  float64\n",
      " 4   contact_avoidance          26499 non-null  float64\n",
      " 5   bought_face_mask           26688 non-null  float64\n",
      " 6   wash_hands_frequently      26665 non-null  float64\n",
      " 7   avoid_large_gatherings     26620 non-null  float64\n",
      " 8   reduced_outside_home_cont  26625 non-null  float64\n",
      " 9   avoid_touch_face           26579 non-null  float64\n",
      " 10  dr_recc_h1n1_vacc          24547 non-null  float64\n",
      " 11  dr_recc_seasonal_vacc      24547 non-null  float64\n",
      " 12  chronic_medic_condition    25736 non-null  float64\n",
      " 13  cont_child_undr_6_mnths    25887 non-null  float64\n",
      " 14  is_health_worker           25903 non-null  float64\n",
      " 15  has_health_insur           14433 non-null  float64\n",
      " 16  is_h1n1_vacc_effective     26316 non-null  float64\n",
      " 17  is_h1n1_risky              26319 non-null  float64\n",
      " 18  sick_from_h1n1_vacc        26312 non-null  float64\n",
      " 19  is_seas_vacc_effective     26245 non-null  float64\n",
      " 20  is_seas_risky              26193 non-null  float64\n",
      " 21  sick_from_seas_vacc        26170 non-null  float64\n",
      " 22  age_bracket                26707 non-null  object \n",
      " 23  qualification              25300 non-null  object \n",
      " 24  race                       26707 non-null  object \n",
      " 25  sex                        26707 non-null  object \n",
      " 26  income_level               22284 non-null  object \n",
      " 27  marital_status             25299 non-null  object \n",
      " 28  housing_status             24665 non-null  object \n",
      " 29  employment                 25244 non-null  object \n",
      " 30  census_msa                 26707 non-null  object \n",
      " 31  no_of_adults               26458 non-null  float64\n",
      " 32  no_of_children             26458 non-null  float64\n",
      " 33  h1n1_vaccine               26707 non-null  int64  \n",
      "dtypes: float64(23), int64(2), object(9)\n",
      "memory usage: 6.9+ MB\n"
     ]
    }
   ],
   "source": [
    "ds.info()"
   ]
  },
  {
   "cell_type": "markdown",
   "id": "e34d5ada",
   "metadata": {},
   "source": [
    "# Missing Values"
   ]
  },
  {
   "cell_type": "code",
   "execution_count": 7,
   "id": "4e4dcc03",
   "metadata": {},
   "outputs": [
    {
     "data": {
      "text/plain": [
       "unique_id                        0\n",
       "h1n1_worry                      92\n",
       "h1n1_awareness                 116\n",
       "antiviral_medication            71\n",
       "contact_avoidance              208\n",
       "bought_face_mask                19\n",
       "wash_hands_frequently           42\n",
       "avoid_large_gatherings          87\n",
       "reduced_outside_home_cont       82\n",
       "avoid_touch_face               128\n",
       "dr_recc_h1n1_vacc             2160\n",
       "dr_recc_seasonal_vacc         2160\n",
       "chronic_medic_condition        971\n",
       "cont_child_undr_6_mnths        820\n",
       "is_health_worker               804\n",
       "has_health_insur             12274\n",
       "is_h1n1_vacc_effective         391\n",
       "is_h1n1_risky                  388\n",
       "sick_from_h1n1_vacc            395\n",
       "is_seas_vacc_effective         462\n",
       "is_seas_risky                  514\n",
       "sick_from_seas_vacc            537\n",
       "age_bracket                      0\n",
       "qualification                 1407\n",
       "race                             0\n",
       "sex                              0\n",
       "income_level                  4423\n",
       "marital_status                1408\n",
       "housing_status                2042\n",
       "employment                    1463\n",
       "census_msa                       0\n",
       "no_of_adults                   249\n",
       "no_of_children                 249\n",
       "h1n1_vaccine                     0\n",
       "dtype: int64"
      ]
     },
     "execution_count": 7,
     "metadata": {},
     "output_type": "execute_result"
    }
   ],
   "source": [
    "ds.isnull().sum()"
   ]
  },
  {
   "cell_type": "code",
   "execution_count": 8,
   "id": "531cf28c",
   "metadata": {},
   "outputs": [
    {
     "data": {
      "text/plain": [
       "<AxesSubplot:>"
      ]
     },
     "execution_count": 8,
     "metadata": {},
     "output_type": "execute_result"
    },
    {
     "data": {
      "image/png": "[encoded data removed]",
      "text/plain": [
       "<Figure size 432x288 with 2 Axes>"
      ]
     },
     "metadata": {
      "needs_background": "light"
     },
     "output_type": "display_data"
    }
   ],
   "source": [
    "sns.heatmap(ds.isnull(), yticklabels=False, cmap='viridis')"
   ]
  },
  {
   "cell_type": "code",
   "execution_count": 9,
   "id": "c2346bdc",
   "metadata": {},
   "outputs": [
    {
     "data": {
      "text/plain": [
       "(11794, 33)"
      ]
     },
     "execution_count": 9,
     "metadata": {},
     "output_type": "execute_result"
    }
   ],
   "source": [
    "ds.drop('unique_id', axis=1, inplace=True)\n",
    "ds.dropna(inplace=True)\n",
    "ds.shape"
   ]
  },
  {
   "cell_type": "code",
   "execution_count": 10,
   "id": "31d66882",
   "metadata": {},
   "outputs": [],
   "source": [
    "features = ds.iloc[:, :-1]   ##to get all features ie. independent variables\n",
    "#features= ds.drop(['h1n1_vaccine'], axis=1)"
   ]
  },
  {
   "cell_type": "code",
   "execution_count": 11,
   "id": "22884d65",
   "metadata": {},
   "outputs": [],
   "source": [
    "features = features.fillna(features.median()) ###for float\n",
    "features = round(features)"
   ]
  },
  {
   "cell_type": "code",
   "execution_count": 12,
   "id": "7742a40d",
   "metadata": {},
   "outputs": [],
   "source": [
    "features = features.fillna('No Category')    ###for strings"
   ]
  },
  {
   "cell_type": "code",
   "execution_count": 13,
   "id": "2f4265ed",
   "metadata": {},
   "outputs": [
    {
     "data": {
      "text/plain": [
       "h1n1_worry                   0\n",
       "h1n1_awareness               0\n",
       "antiviral_medication         0\n",
       "contact_avoidance            0\n",
       "bought_face_mask             0\n",
       "wash_hands_frequently        0\n",
       "avoid_large_gatherings       0\n",
       "reduced_outside_home_cont    0\n",
       "avoid_touch_face             0\n",
       "dr_recc_h1n1_vacc            0\n",
       "dr_recc_seasonal_vacc        0\n",
       "chronic_medic_condition      0\n",
       "cont_child_undr_6_mnths      0\n",
       "is_health_worker             0\n",
       "has_health_insur             0\n",
       "is_h1n1_vacc_effective       0\n",
       "is_h1n1_risky                0\n",
       "sick_from_h1n1_vacc          0\n",
       "is_seas_vacc_effective       0\n",
       "is_seas_risky                0\n",
       "sick_from_seas_vacc          0\n",
       "age_bracket                  0\n",
       "qualification                0\n",
       "race                         0\n",
       "sex                          0\n",
       "income_level                 0\n",
       "marital_status               0\n",
       "housing_status               0\n",
       "employment                   0\n",
       "census_msa                   0\n",
       "no_of_adults                 0\n",
       "no_of_children               0\n",
       "h1n1_vaccine                 0\n",
       "dtype: int64"
      ]
     },
     "execution_count": 13,
     "metadata": {},
     "output_type": "execute_result"
    }
   ],
   "source": [
    "ds.isnull().sum()"
   ]
  },
  {
   "cell_type": "code",
   "execution_count": 14,
   "id": "13d64e84",
   "metadata": {},
   "outputs": [
    {
     "name": "stdout",
     "output_type": "stream",
     "text": [
      "<class 'pandas.core.frame.DataFrame'>\n",
      "Int64Index: 11794 entries, 0 to 26706\n",
      "Data columns (total 33 columns):\n",
      " #   Column                     Non-Null Count  Dtype  \n",
      "---  ------                     --------------  -----  \n",
      " 0   h1n1_worry                 11794 non-null  float64\n",
      " 1   h1n1_awareness             11794 non-null  float64\n",
      " 2   antiviral_medication       11794 non-null  float64\n",
      " 3   contact_avoidance          11794 non-null  float64\n",
      " 4   bought_face_mask           11794 non-null  float64\n",
      " 5   wash_hands_frequently      11794 non-null  float64\n",
      " 6   avoid_large_gatherings     11794 non-null  float64\n",
      " 7   reduced_outside_home_cont  11794 non-null  float64\n",
      " 8   avoid_touch_face           11794 non-null  float64\n",
      " 9   dr_recc_h1n1_vacc          11794 non-null  float64\n",
      " 10  dr_recc_seasonal_vacc      11794 non-null  float64\n",
      " 11  chronic_medic_condition    11794 non-null  float64\n",
      " 12  cont_child_undr_6_mnths    11794 non-null  float64\n",
      " 13  is_health_worker           11794 non-null  float64\n",
      " 14  has_health_insur           11794 non-null  float64\n",
      " 15  is_h1n1_vacc_effective     11794 non-null  float64\n",
      " 16  is_h1n1_risky              11794 non-null  float64\n",
      " 17  sick_from_h1n1_vacc        11794 non-null  float64\n",
      " 18  is_seas_vacc_effective     11794 non-null  float64\n",
      " 19  is_seas_risky              11794 non-null  float64\n",
      " 20  sick_from_seas_vacc        11794 non-null  float64\n",
      " 21  age_bracket                11794 non-null  object \n",
      " 22  qualification              11794 non-null  object \n",
      " 23  race                       11794 non-null  object \n",
      " 24  sex                        11794 non-null  object \n",
      " 25  income_level               11794 non-null  object \n",
      " 26  marital_status             11794 non-null  object \n",
      " 27  housing_status             11794 non-null  object \n",
      " 28  employment                 11794 non-null  object \n",
      " 29  census_msa                 11794 non-null  object \n",
      " 30  no_of_adults               11794 non-null  float64\n",
      " 31  no_of_children             11794 non-null  float64\n",
      " 32  h1n1_vaccine               11794 non-null  int64  \n",
      "dtypes: float64(23), int64(1), object(9)\n",
      "memory usage: 3.1+ MB\n"
     ]
    }
   ],
   "source": [
    "ds.info()"
   ]
  },
  {
   "cell_type": "markdown",
   "id": "88b15f97",
   "metadata": {},
   "source": [
    "# Removing duplicate"
   ]
  },
  {
   "cell_type": "code",
   "execution_count": 15,
   "id": "c879c014",
   "metadata": {},
   "outputs": [
    {
     "data": {
      "text/plain": [
       "2"
      ]
     },
     "execution_count": 15,
     "metadata": {},
     "output_type": "execute_result"
    }
   ],
   "source": [
    "ds.duplicated().sum()"
   ]
  },
  {
   "cell_type": "code",
   "execution_count": 16,
   "id": "cdbd23a3",
   "metadata": {},
   "outputs": [],
   "source": [
    "ds.drop_duplicates(inplace=True)"
   ]
  },
  {
   "cell_type": "code",
   "execution_count": 17,
   "id": "6c74841b",
   "metadata": {},
   "outputs": [
    {
     "data": {
      "text/plain": [
       "0"
      ]
     },
     "execution_count": 17,
     "metadata": {},
     "output_type": "execute_result"
    }
   ],
   "source": [
    "ds.duplicated().sum()"
   ]
  },
  {
   "cell_type": "code",
   "execution_count": 18,
   "id": "1164a4bc",
   "metadata": {},
   "outputs": [
    {
     "data": {
      "text/html": [
       "<div>\n",
       "<style scoped>\n",
       "    .dataframe tbody tr th:only-of-type {\n",
       "        vertical-align: middle;\n",
       "    }\n",
       "\n",
       "    .dataframe tbody tr th {\n",
       "        vertical-align: top;\n",
       "    }\n",
       "\n",
       "    .dataframe thead th {\n",
       "        text-align: right;\n",
       "    }\n",
       "</style>\n",
       "<table border=\"1\" class=\"dataframe\">\n",
       "  <thead>\n",
       "    <tr style=\"text-align: right;\">\n",
       "      <th></th>\n",
       "      <th>h1n1_worry</th>\n",
       "      <th>h1n1_awareness</th>\n",
       "      <th>antiviral_medication</th>\n",
       "      <th>contact_avoidance</th>\n",
       "      <th>bought_face_mask</th>\n",
       "      <th>wash_hands_frequently</th>\n",
       "      <th>avoid_large_gatherings</th>\n",
       "      <th>reduced_outside_home_cont</th>\n",
       "      <th>avoid_touch_face</th>\n",
       "      <th>dr_recc_h1n1_vacc</th>\n",
       "      <th>...</th>\n",
       "      <th>race</th>\n",
       "      <th>sex</th>\n",
       "      <th>income_level</th>\n",
       "      <th>marital_status</th>\n",
       "      <th>housing_status</th>\n",
       "      <th>employment</th>\n",
       "      <th>census_msa</th>\n",
       "      <th>no_of_adults</th>\n",
       "      <th>no_of_children</th>\n",
       "      <th>h1n1_vaccine</th>\n",
       "    </tr>\n",
       "  </thead>\n",
       "  <tbody>\n",
       "    <tr>\n",
       "      <th>0</th>\n",
       "      <td>1.0</td>\n",
       "      <td>0.0</td>\n",
       "      <td>0.0</td>\n",
       "      <td>0.0</td>\n",
       "      <td>0.0</td>\n",
       "      <td>0.0</td>\n",
       "      <td>0.0</td>\n",
       "      <td>1.0</td>\n",
       "      <td>1.0</td>\n",
       "      <td>0.0</td>\n",
       "      <td>...</td>\n",
       "      <td>White</td>\n",
       "      <td>Female</td>\n",
       "      <td>Below Poverty</td>\n",
       "      <td>Not Married</td>\n",
       "      <td>Own</td>\n",
       "      <td>Not in Labor Force</td>\n",
       "      <td>Non-MSA</td>\n",
       "      <td>0.0</td>\n",
       "      <td>0.0</td>\n",
       "      <td>0</td>\n",
       "    </tr>\n",
       "    <tr>\n",
       "      <th>1</th>\n",
       "      <td>3.0</td>\n",
       "      <td>2.0</td>\n",
       "      <td>0.0</td>\n",
       "      <td>1.0</td>\n",
       "      <td>0.0</td>\n",
       "      <td>1.0</td>\n",
       "      <td>0.0</td>\n",
       "      <td>1.0</td>\n",
       "      <td>1.0</td>\n",
       "      <td>0.0</td>\n",
       "      <td>...</td>\n",
       "      <td>White</td>\n",
       "      <td>Male</td>\n",
       "      <td>Below Poverty</td>\n",
       "      <td>Not Married</td>\n",
       "      <td>Rent</td>\n",
       "      <td>Employed</td>\n",
       "      <td>MSA, Not Principle  City</td>\n",
       "      <td>0.0</td>\n",
       "      <td>0.0</td>\n",
       "      <td>0</td>\n",
       "    </tr>\n",
       "    <tr>\n",
       "      <th>7</th>\n",
       "      <td>1.0</td>\n",
       "      <td>0.0</td>\n",
       "      <td>0.0</td>\n",
       "      <td>1.0</td>\n",
       "      <td>0.0</td>\n",
       "      <td>1.0</td>\n",
       "      <td>0.0</td>\n",
       "      <td>0.0</td>\n",
       "      <td>1.0</td>\n",
       "      <td>1.0</td>\n",
       "      <td>...</td>\n",
       "      <td>White</td>\n",
       "      <td>Female</td>\n",
       "      <td>&lt;= $75,000, Above Poverty</td>\n",
       "      <td>Married</td>\n",
       "      <td>Own</td>\n",
       "      <td>Employed</td>\n",
       "      <td>Non-MSA</td>\n",
       "      <td>2.0</td>\n",
       "      <td>0.0</td>\n",
       "      <td>1</td>\n",
       "    </tr>\n",
       "    <tr>\n",
       "      <th>9</th>\n",
       "      <td>2.0</td>\n",
       "      <td>1.0</td>\n",
       "      <td>0.0</td>\n",
       "      <td>1.0</td>\n",
       "      <td>0.0</td>\n",
       "      <td>0.0</td>\n",
       "      <td>1.0</td>\n",
       "      <td>0.0</td>\n",
       "      <td>1.0</td>\n",
       "      <td>0.0</td>\n",
       "      <td>...</td>\n",
       "      <td>White</td>\n",
       "      <td>Male</td>\n",
       "      <td>&lt;= $75,000, Above Poverty</td>\n",
       "      <td>Not Married</td>\n",
       "      <td>Own</td>\n",
       "      <td>Not in Labor Force</td>\n",
       "      <td>MSA, Not Principle  City</td>\n",
       "      <td>0.0</td>\n",
       "      <td>0.0</td>\n",
       "      <td>0</td>\n",
       "    </tr>\n",
       "    <tr>\n",
       "      <th>10</th>\n",
       "      <td>2.0</td>\n",
       "      <td>1.0</td>\n",
       "      <td>0.0</td>\n",
       "      <td>1.0</td>\n",
       "      <td>0.0</td>\n",
       "      <td>1.0</td>\n",
       "      <td>1.0</td>\n",
       "      <td>0.0</td>\n",
       "      <td>0.0</td>\n",
       "      <td>0.0</td>\n",
       "      <td>...</td>\n",
       "      <td>White</td>\n",
       "      <td>Male</td>\n",
       "      <td>&lt;= $75,000, Above Poverty</td>\n",
       "      <td>Married</td>\n",
       "      <td>Rent</td>\n",
       "      <td>Employed</td>\n",
       "      <td>MSA, Not Principle  City</td>\n",
       "      <td>2.0</td>\n",
       "      <td>0.0</td>\n",
       "      <td>1</td>\n",
       "    </tr>\n",
       "  </tbody>\n",
       "</table>\n",
       "<p>5 rows × 33 columns</p>\n",
       "</div>"
      ],
      "text/plain": [
       "    h1n1_worry  h1n1_awareness  antiviral_medication  contact_avoidance  \\\n",
       "0          1.0             0.0                   0.0                0.0   \n",
       "1          3.0             2.0                   0.0                1.0   \n",
       "7          1.0             0.0                   0.0                1.0   \n",
       "9          2.0             1.0                   0.0                1.0   \n",
       "10         2.0             1.0                   0.0                1.0   \n",
       "\n",
       "    bought_face_mask  wash_hands_frequently  avoid_large_gatherings  \\\n",
       "0                0.0                    0.0                     0.0   \n",
       "1                0.0                    1.0                     0.0   \n",
       "7                0.0                    1.0                     0.0   \n",
       "9                0.0                    0.0                     1.0   \n",
       "10               0.0                    1.0                     1.0   \n",
       "\n",
       "    reduced_outside_home_cont  avoid_touch_face  dr_recc_h1n1_vacc  ...  \\\n",
       "0                         1.0               1.0                0.0  ...   \n",
       "1                         1.0               1.0                0.0  ...   \n",
       "7                         0.0               1.0                1.0  ...   \n",
       "9                         0.0               1.0                0.0  ...   \n",
       "10                        0.0               0.0                0.0  ...   \n",
       "\n",
       "     race     sex               income_level  marital_status  housing_status  \\\n",
       "0   White  Female              Below Poverty     Not Married             Own   \n",
       "1   White    Male              Below Poverty     Not Married            Rent   \n",
       "7   White  Female  <= $75,000, Above Poverty         Married             Own   \n",
       "9   White    Male  <= $75,000, Above Poverty     Not Married             Own   \n",
       "10  White    Male  <= $75,000, Above Poverty         Married            Rent   \n",
       "\n",
       "            employment                census_msa  no_of_adults  \\\n",
       "0   Not in Labor Force                   Non-MSA           0.0   \n",
       "1             Employed  MSA, Not Principle  City           0.0   \n",
       "7             Employed                   Non-MSA           2.0   \n",
       "9   Not in Labor Force  MSA, Not Principle  City           0.0   \n",
       "10            Employed  MSA, Not Principle  City           2.0   \n",
       "\n",
       "    no_of_children  h1n1_vaccine  \n",
       "0              0.0             0  \n",
       "1              0.0             0  \n",
       "7              0.0             1  \n",
       "9              0.0             0  \n",
       "10             0.0             1  \n",
       "\n",
       "[5 rows x 33 columns]"
      ]
     },
     "execution_count": 18,
     "metadata": {},
     "output_type": "execute_result"
    }
   ],
   "source": [
    "ds.head()"
   ]
  },
  {
   "cell_type": "markdown",
   "id": "fa8d9051",
   "metadata": {},
   "source": [
    "# Unique values of Features"
   ]
  },
  {
   "cell_type": "code",
   "execution_count": 19,
   "id": "953d88cd",
   "metadata": {},
   "outputs": [
    {
     "name": "stdout",
     "output_type": "stream",
     "text": [
      "age_bracket\n",
      "['55 - 64 Years' '35 - 44 Years' '45 - 54 Years' '65+ Years'\n",
      " '18 - 34 Years']\n",
      "qualification\n",
      "['< 12 Years' '12 Years' 'Some College' 'College Graduate']\n",
      "race\n",
      "['White' 'Black' 'Hispanic' 'Other or Multiple']\n",
      "sex\n",
      "['Female' 'Male']\n",
      "income_level\n",
      "['Below Poverty' '<= $75,000, Above Poverty' '> $75,000']\n",
      "marital_status\n",
      "['Not Married' 'Married']\n",
      "housing_status\n",
      "['Own' 'Rent']\n",
      "employment\n",
      "['Not in Labor Force' 'Employed' 'Unemployed']\n",
      "census_msa\n",
      "['Non-MSA' 'MSA, Not Principle  City' 'MSA, Principle City']\n"
     ]
    }
   ],
   "source": [
    "# for datatype= object\n",
    "\n",
    "print(\"age_bracket\")\n",
    "print(ds.age_bracket.unique())\n",
    "\n",
    "print(\"qualification\")\n",
    "print(ds.qualification.unique())\n",
    "\n",
    "print(\"race\")\n",
    "print(ds.race.unique())\n",
    "\n",
    "print(\"sex\")\n",
    "print(ds.sex.unique())\n",
    "\n",
    "print(\"income_level\")\n",
    "print(ds.income_level.unique())\n",
    "\n",
    "print(\"marital_status\")\n",
    "print(ds.marital_status.unique())\n",
    "\n",
    "print(\"housing_status\")\n",
    "print(ds.housing_status.unique())\n",
    "\n",
    "print(\"employment\")\n",
    "print(ds.employment.unique())\n",
    "\n",
    "print(\"census_msa\")\n",
    "print(ds.census_msa.unique())"
   ]
  },
  {
   "cell_type": "markdown",
   "id": "c87bf458",
   "metadata": {},
   "source": [
    "# Encoding the object datatype in features"
   ]
  },
  {
   "cell_type": "code",
   "execution_count": 20,
   "id": "bba70cae",
   "metadata": {},
   "outputs": [],
   "source": [
    "from sklearn.preprocessing import LabelEncoder\n",
    "enc = LabelEncoder()"
   ]
  },
  {
   "cell_type": "code",
   "execution_count": 21,
   "id": "3bed1d90",
   "metadata": {},
   "outputs": [],
   "source": [
    "ds.age_bracket = enc.fit_transform(ds.age_bracket)\n",
    "ds.qualification = enc.fit_transform(ds.qualification)\n",
    "ds.race = enc.fit_transform(ds.race)\n",
    "ds.sex = enc.fit_transform(ds.sex)\n",
    "ds.income_level = enc.fit_transform(ds.income_level)\n",
    "ds.marital_status = enc.fit_transform(ds.marital_status)\n",
    "ds.housing_status = enc.fit_transform(ds.housing_status)\n",
    "ds.employment = enc.fit_transform(ds.employment)\n",
    "ds.census_msa = enc.fit_transform(ds.census_msa)"
   ]
  },
  {
   "cell_type": "code",
   "execution_count": 22,
   "id": "f33c7332",
   "metadata": {},
   "outputs": [
    {
     "name": "stdout",
     "output_type": "stream",
     "text": [
      "<class 'pandas.core.frame.DataFrame'>\n",
      "Int64Index: 11792 entries, 0 to 26706\n",
      "Data columns (total 33 columns):\n",
      " #   Column                     Non-Null Count  Dtype  \n",
      "---  ------                     --------------  -----  \n",
      " 0   h1n1_worry                 11792 non-null  float64\n",
      " 1   h1n1_awareness             11792 non-null  float64\n",
      " 2   antiviral_medication       11792 non-null  float64\n",
      " 3   contact_avoidance          11792 non-null  float64\n",
      " 4   bought_face_mask           11792 non-null  float64\n",
      " 5   wash_hands_frequently      11792 non-null  float64\n",
      " 6   avoid_large_gatherings     11792 non-null  float64\n",
      " 7   reduced_outside_home_cont  11792 non-null  float64\n",
      " 8   avoid_touch_face           11792 non-null  float64\n",
      " 9   dr_recc_h1n1_vacc          11792 non-null  float64\n",
      " 10  dr_recc_seasonal_vacc      11792 non-null  float64\n",
      " 11  chronic_medic_condition    11792 non-null  float64\n",
      " 12  cont_child_undr_6_mnths    11792 non-null  float64\n",
      " 13  is_health_worker           11792 non-null  float64\n",
      " 14  has_health_insur           11792 non-null  float64\n",
      " 15  is_h1n1_vacc_effective     11792 non-null  float64\n",
      " 16  is_h1n1_risky              11792 non-null  float64\n",
      " 17  sick_from_h1n1_vacc        11792 non-null  float64\n",
      " 18  is_seas_vacc_effective     11792 non-null  float64\n",
      " 19  is_seas_risky              11792 non-null  float64\n",
      " 20  sick_from_seas_vacc        11792 non-null  float64\n",
      " 21  age_bracket                11792 non-null  int64  \n",
      " 22  qualification              11792 non-null  int64  \n",
      " 23  race                       11792 non-null  int64  \n",
      " 24  sex                        11792 non-null  int64  \n",
      " 25  income_level               11792 non-null  int64  \n",
      " 26  marital_status             11792 non-null  int64  \n",
      " 27  housing_status             11792 non-null  int64  \n",
      " 28  employment                 11792 non-null  int64  \n",
      " 29  census_msa                 11792 non-null  int64  \n",
      " 30  no_of_adults               11792 non-null  float64\n",
      " 31  no_of_children             11792 non-null  float64\n",
      " 32  h1n1_vaccine               11792 non-null  int64  \n",
      "dtypes: float64(23), int64(10)\n",
      "memory usage: 3.1 MB\n"
     ]
    }
   ],
   "source": [
    "ds.info()"
   ]
  },
  {
   "cell_type": "code",
   "execution_count": null,
   "id": "7a79fab5",
   "metadata": {},
   "outputs": [],
   "source": [
    "ds.head()"
   ]
  },
  {
   "cell_type": "code",
   "execution_count": null,
   "id": "66e99b02",
   "metadata": {},
   "outputs": [],
   "source": [
    "ds.describe()"
   ]
  },
  {
   "cell_type": "code",
   "execution_count": null,
   "id": "03e85e04",
   "metadata": {},
   "outputs": [],
   "source": [
    "#sns.pairplot(ds, diag_kind='kde')"
   ]
  },
  {
   "cell_type": "markdown",
   "id": "77c699a1",
   "metadata": {},
   "source": [
    "# Outliers"
   ]
  },
  {
   "cell_type": "code",
   "execution_count": 23,
   "id": "355f29be",
   "metadata": {},
   "outputs": [
    {
     "data": {
      "text/plain": [
       "<AxesSubplot:xlabel='no_of_adults'>"
      ]
     },
     "execution_count": 23,
     "metadata": {},
     "output_type": "execute_result"
    },
    {
     "data": {
      "image/png": "[encoded data removed]",
      "text/plain": [
       "<Figure size 432x288 with 1 Axes>"
      ]
     },
     "metadata": {
      "needs_background": "light"
     },
     "output_type": "display_data"
    }
   ],
   "source": [
    "sns.boxplot(ds.no_of_adults)\n"
   ]
  },
  {
   "cell_type": "code",
   "execution_count": 24,
   "id": "0434c234",
   "metadata": {},
   "outputs": [
    {
     "data": {
      "text/plain": [
       "<seaborn.axisgrid.FacetGrid at 0x7fa530618df0>"
      ]
     },
     "execution_count": 24,
     "metadata": {},
     "output_type": "execute_result"
    },
    {
     "data": {
      "image/png": "[encoded data removed]",
      "text/plain": [
       "<Figure size 360x360 with 1 Axes>"
      ]
     },
     "metadata": {
      "needs_background": "light"
     },
     "output_type": "display_data"
    }
   ],
   "source": [
    "sns.displot(ds.no_of_adults)"
   ]
  },
  {
   "cell_type": "code",
   "execution_count": 25,
   "id": "cb88fd58",
   "metadata": {},
   "outputs": [
    {
     "data": {
      "text/plain": [
       "<AxesSubplot:xlabel='no_of_children'>"
      ]
     },
     "execution_count": 25,
     "metadata": {},
     "output_type": "execute_result"
    },
    {
     "data": {
      "image/png": "[encoded data removed]",
      "text/plain": [
       "<Figure size 432x288 with 1 Axes>"
      ]
     },
     "metadata": {
      "needs_background": "light"
     },
     "output_type": "display_data"
    }
   ],
   "source": [
    "sns.boxplot(ds.no_of_children)"
   ]
  },
  {
   "cell_type": "code",
   "execution_count": 26,
   "id": "0dedbf83",
   "metadata": {},
   "outputs": [
    {
     "data": {
      "text/plain": [
       "<seaborn.axisgrid.FacetGrid at 0x7fa5555d4880>"
      ]
     },
     "execution_count": 26,
     "metadata": {},
     "output_type": "execute_result"
    },
    {
     "data": {
      "image/png": "[encoded data removed]",
      "text/plain": [
       "<Figure size 360x360 with 1 Axes>"
      ]
     },
     "metadata": {
      "needs_background": "light"
     },
     "output_type": "display_data"
    }
   ],
   "source": [
    "sns.displot(ds.no_of_children)"
   ]
  },
  {
   "cell_type": "code",
   "execution_count": 27,
   "id": "547c5c50",
   "metadata": {},
   "outputs": [
    {
     "name": "stdout",
     "output_type": "stream",
     "text": [
      "<class 'pandas.core.frame.DataFrame'>\n",
      "Int64Index: 11792 entries, 0 to 26706\n",
      "Data columns (total 33 columns):\n",
      " #   Column                     Non-Null Count  Dtype  \n",
      "---  ------                     --------------  -----  \n",
      " 0   h1n1_worry                 11792 non-null  float64\n",
      " 1   h1n1_awareness             11792 non-null  float64\n",
      " 2   antiviral_medication       11792 non-null  float64\n",
      " 3   contact_avoidance          11792 non-null  float64\n",
      " 4   bought_face_mask           11792 non-null  float64\n",
      " 5   wash_hands_frequently      11792 non-null  float64\n",
      " 6   avoid_large_gatherings     11792 non-null  float64\n",
      " 7   reduced_outside_home_cont  11792 non-null  float64\n",
      " 8   avoid_touch_face           11792 non-null  float64\n",
      " 9   dr_recc_h1n1_vacc          11792 non-null  float64\n",
      " 10  dr_recc_seasonal_vacc      11792 non-null  float64\n",
      " 11  chronic_medic_condition    11792 non-null  float64\n",
      " 12  cont_child_undr_6_mnths    11792 non-null  float64\n",
      " 13  is_health_worker           11792 non-null  float64\n",
      " 14  has_health_insur           11792 non-null  float64\n",
      " 15  is_h1n1_vacc_effective     11792 non-null  float64\n",
      " 16  is_h1n1_risky              11792 non-null  float64\n",
      " 17  sick_from_h1n1_vacc        11792 non-null  float64\n",
      " 18  is_seas_vacc_effective     11792 non-null  float64\n",
      " 19  is_seas_risky              11792 non-null  float64\n",
      " 20  sick_from_seas_vacc        11792 non-null  float64\n",
      " 21  age_bracket                11792 non-null  int64  \n",
      " 22  qualification              11792 non-null  int64  \n",
      " 23  race                       11792 non-null  int64  \n",
      " 24  sex                        11792 non-null  int64  \n",
      " 25  income_level               11792 non-null  int64  \n",
      " 26  marital_status             11792 non-null  int64  \n",
      " 27  housing_status             11792 non-null  int64  \n",
      " 28  employment                 11792 non-null  int64  \n",
      " 29  census_msa                 11792 non-null  int64  \n",
      " 30  no_of_adults               11792 non-null  float64\n",
      " 31  no_of_children             11792 non-null  float64\n",
      " 32  h1n1_vaccine               11792 non-null  int64  \n",
      "dtypes: float64(23), int64(10)\n",
      "memory usage: 3.1 MB\n"
     ]
    }
   ],
   "source": [
    "ds.info()"
   ]
  },
  {
   "cell_type": "markdown",
   "id": "06026357",
   "metadata": {},
   "source": [
    "# Split data"
   ]
  },
  {
   "cell_type": "code",
   "execution_count": 29,
   "id": "8871b38b",
   "metadata": {},
   "outputs": [],
   "source": [
    "X= ds.drop(['h1n1_vaccine'], axis=1)\n",
    "y= ds[['h1n1_vaccine']]"
   ]
  },
  {
   "cell_type": "code",
   "execution_count": 30,
   "id": "ff58aafa",
   "metadata": {},
   "outputs": [],
   "source": [
    "X_train, X_test, y_train, y_test = train_test_split(X, y, test_size=0.3, random_state=1)"
   ]
  },
  {
   "cell_type": "markdown",
   "id": "ddaed2a9",
   "metadata": {},
   "source": [
    "# Fit Model"
   ]
  },
  {
   "cell_type": "code",
   "execution_count": 31,
   "id": "5dd17e03",
   "metadata": {},
   "outputs": [
    {
     "data": {
      "text/plain": [
       "LogisticRegression()"
      ]
     },
     "execution_count": 31,
     "metadata": {},
     "output_type": "execute_result"
    }
   ],
   "source": [
    "model= LogisticRegression()\n",
    "model.fit(X_train, y_train)"
   ]
  },
  {
   "cell_type": "code",
   "execution_count": null,
   "id": "c12ad963",
   "metadata": {},
   "outputs": [],
   "source": []
  }
 ],
 "metadata": {
  "kernelspec": {
   "display_name": "Python 3 (ipykernel)",
   "language": "python",
   "name": "python3"
  },
  "language_info": {
   "codemirror_mode": {
    "name": "ipython",
    "version": 3
   },
   "file_extension": ".py",
   "mimetype": "text/x-python",
   "name": "python",
   "nbconvert_exporter": "python",
   "pygments_lexer": "ipython3",
   "version": "3.9.12"
  }
 },
 "nbformat": 4,
 "nbformat_minor": 5
}
